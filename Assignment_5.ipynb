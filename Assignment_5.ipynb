{
  "nbformat": 4,
  "nbformat_minor": 0,
  "metadata": {
    "colab": {
      "provenance": [],
      "authorship_tag": "ABX9TyN22+TASf2oTjKzkTl4qlQF",
      "include_colab_link": true
    },
    "kernelspec": {
      "name": "python3",
      "display_name": "Python 3"
    },
    "language_info": {
      "name": "python"
    }
  },
  "cells": [
    {
      "cell_type": "markdown",
      "metadata": {
        "id": "view-in-github",
        "colab_type": "text"
      },
      "source": [
        "<a href=\"https://colab.research.google.com/github/Abdullahnasirqazi/LeetCode-Problems/blob/main/Assignment_5.ipynb\" target=\"_parent\"><img src=\"https://colab.research.google.com/assets/colab-badge.svg\" alt=\"Open In Colab\"/></a>"
      ]
    },
    {
      "cell_type": "code",
      "execution_count": null,
      "metadata": {
        "colab": {
          "base_uri": "https://localhost:8080/"
        },
        "id": "x7vH_MyyoVAc",
        "outputId": "d4ba0c89-8727-49d2-f17e-6aa7955906c7"
      },
      "outputs": [
        {
          "output_type": "stream",
          "name": "stdout",
          "text": [
            "halludBA\n"
          ]
        }
      ],
      "source": [
        "#Question no 1\n",
        "\n",
        "language = \"ABdullah\"\n",
        "print(language[::-1])"
      ]
    },
    {
      "cell_type": "code",
      "source": [
        "#Question no 2\n",
        "\n",
        "s = input('Enter the string :')\n",
        "reverse = s[::-1]\n",
        "if reverse == s:\n",
        "  print('It is  palindrome')\n",
        "else:\n",
        "  print('not a  palindrome')"
      ],
      "metadata": {
        "colab": {
          "base_uri": "https://localhost:8080/"
        },
        "id": "OVd3gspDeGgI",
        "outputId": "dcd55a06-7e5c-4ec6-92ea-110f8c5e0983"
      },
      "execution_count": null,
      "outputs": [
        {
          "output_type": "stream",
          "name": "stdout",
          "text": [
            "Enter the string :yahya\n",
            "not a  palindrome\n"
          ]
        }
      ]
    },
    {
      "cell_type": "code",
      "source": [
        "#Question no 3\n",
        "\n",
        "string = '22'\n",
        "print(string.isdigit())"
      ],
      "metadata": {
        "colab": {
          "base_uri": "https://localhost:8080/"
        },
        "id": "ivl8XRZ6wa65",
        "outputId": "2f6f868b-d9bb-4fbf-92ed-ee487ee123eb"
      },
      "execution_count": null,
      "outputs": [
        {
          "output_type": "stream",
          "name": "stdout",
          "text": [
            "True\n"
          ]
        }
      ]
    },
    {
      "cell_type": "code",
      "source": [
        "#Question no 4\n",
        "\n",
        "string =\"Name      Age     Country   City\"\n",
        "print(string[28:33])\n"
      ],
      "metadata": {
        "colab": {
          "base_uri": "https://localhost:8080/"
        },
        "id": "m1iQMvNnxBAq",
        "outputId": "66d59b95-d0a4-4847-9478-316be150ee95"
      },
      "execution_count": null,
      "outputs": [
        {
          "output_type": "stream",
          "name": "stdout",
          "text": [
            "City\n"
          ]
        }
      ]
    },
    {
      "cell_type": "code",
      "source": [
        "#Question no 5\n",
        "\n",
        "string =\"My name is Abdullah\"\n",
        "print(string)\n",
        "print(string.replace('Abdullah','Ali'))"
      ],
      "metadata": {
        "colab": {
          "base_uri": "https://localhost:8080/"
        },
        "id": "JefKxv7L1Gwu",
        "outputId": "6af2145e-bd8b-4e11-abfe-9e5bd143e4a5"
      },
      "execution_count": null,
      "outputs": [
        {
          "output_type": "stream",
          "name": "stdout",
          "text": [
            "My name is Abdullah\n",
            "My name is Ali\n"
          ]
        }
      ]
    },
    {
      "cell_type": "code",
      "source": [
        "#Question no 6\n",
        "\n",
        "string =\"  Abdullah  \"\n",
        "print(len(string))\n",
        "blank1=string.lstrip(' ')\n",
        "print(blank1)\n",
        "print(len(blank1))\n",
        "blank2 = blank1.rstrip(' ')\n",
        "print(blank2)\n",
        "print (len(blank2))\n"
      ],
      "metadata": {
        "colab": {
          "base_uri": "https://localhost:8080/"
        },
        "id": "VFLjbQDz2nBU",
        "outputId": "f44878b6-55f4-4b20-80f7-54f434d51a7c"
      },
      "execution_count": null,
      "outputs": [
        {
          "output_type": "stream",
          "name": "stdout",
          "text": [
            "12\n",
            "Abdullah  \n",
            "10\n",
            "Abdullah\n",
            "8\n"
          ]
        }
      ]
    },
    {
      "cell_type": "code",
      "source": [
        "#Question no 7\n",
        "\n",
        "def display_operations(a, b):\n",
        "    addition = a + b\n",
        "    subtraction = a - b\n",
        "    multiplication = a * b\n",
        "\n",
        "    result = (\n",
        "        f\"a + b = {addition}\\n\"\n",
        "        f\"a - b = {subtraction}\\n\"\n",
        "        f\"a * b = {multiplication}\"\n",
        "    )\n",
        "\n",
        "    return result\n",
        "\n",
        "# Example usage:\n",
        "a = 10\n",
        "b = 5\n",
        "print(display_operations(a, b))\n"
      ],
      "metadata": {
        "colab": {
          "base_uri": "https://localhost:8080/"
        },
        "id": "Ho8blJeY20ca",
        "outputId": "7ec6a7a3-6218-4429-b346-21730016589f"
      },
      "execution_count": null,
      "outputs": [
        {
          "output_type": "stream",
          "name": "stdout",
          "text": [
            "a + b = 15\n",
            "a - b = 5\n",
            "a * b = 50\n"
          ]
        }
      ]
    }
  ]
}